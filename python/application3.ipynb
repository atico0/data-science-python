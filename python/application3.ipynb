{
 "cells": [
  {
   "cell_type": "code",
   "execution_count": 6,
   "metadata": {},
   "outputs": [
    {
     "name": "stdin",
     "output_type": "stream",
     "text": [
      "Digite o peso da carga:  15\n"
     ]
    }
   ],
   "source": [
    "peso = int(input(\"Digite o peso da carga: \"))\n"
   ]
  },
  {
   "cell_type": "code",
   "execution_count": 7,
   "metadata": {},
   "outputs": [
    {
     "name": "stdout",
     "output_type": "stream",
     "text": [
      "O valor sera 80R$\n"
     ]
    }
   ],
   "source": [
    "if peso<=10:\n",
    "    print(\"O valor sera 10R$\")\n",
    "elif 11<=peso<=20:\n",
    "    print(\"O valor sera 80R$\")\n",
    "else:\n",
    "    print(\"O transporte não é aceito\")"
   ]
  }
 ],
 "metadata": {
  "kernelspec": {
   "display_name": "Python 3",
   "language": "python",
   "name": "python3"
  },
  "language_info": {
   "codemirror_mode": {
    "name": "ipython",
    "version": 3
   },
   "file_extension": ".py",
   "mimetype": "text/x-python",
   "name": "python",
   "nbconvert_exporter": "python",
   "pygments_lexer": "ipython3",
   "version": "3.8.5"
  }
 },
 "nbformat": 4,
 "nbformat_minor": 4
}
