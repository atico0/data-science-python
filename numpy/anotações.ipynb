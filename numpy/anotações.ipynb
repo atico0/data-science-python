{
 "cells": [
  {
   "cell_type": "code",
   "execution_count": 2,
   "metadata": {},
   "outputs": [],
   "source": [
    "import numpy as np"
   ]
  },
  {
   "cell_type": "code",
   "execution_count": 51,
   "metadata": {},
   "outputs": [
    {
     "data": {
      "text/plain": [
       "array([ 0,  1,  2,  3,  4,  5,  6,  7,  8,  9, 10, 11, 12, 13, 14, 15, 16,\n",
       "       17, 18, 19, 20, 21, 22, 23, 24, 25, 26, 27, 28, 29, 30, 31, 32, 33,\n",
       "       34, 35, 36, 37, 38, 39, 40, 41, 42, 43, 44, 45, 46, 47, 48, 49, 50,\n",
       "       51, 52, 53, 54, 55, 56, 57, 58, 59, 60, 61, 62, 63, 64, 65, 66, 67,\n",
       "       68, 69, 70, 71, 72, 73, 74, 75, 76, 77, 78, 79, 80, 81, 82, 83, 84,\n",
       "       85, 86, 87, 88, 89, 90, 91, 92, 93, 94, 95, 96, 97, 98, 99])"
      ]
     },
     "execution_count": 51,
     "metadata": {},
     "output_type": "execute_result"
    }
   ],
   "source": [
    "#definindo um vetor de 1 dim\n",
    "lista = [x for x in range(100)]\n",
    "vetor = np.array(lista)\n",
    "vetor"
   ]
  },
  {
   "cell_type": "code",
   "execution_count": 5,
   "metadata": {},
   "outputs": [
    {
     "data": {
      "text/plain": [
       "array([[1, 2, 3],\n",
       "       [4, 5, 6],\n",
       "       [7, 8, 9]])"
      ]
     },
     "execution_count": 5,
     "metadata": {},
     "output_type": "execute_result"
    }
   ],
   "source": [
    "#definindo um vetor de 2 dim\n",
    "matriz = [[1,2,3],[4,5,6],[7,8,9]]\n",
    "matriz_vetor = np.array(matriz)\n",
    "matriz_vetor."
   ]
  },
  {
   "cell_type": "code",
   "execution_count": 7,
   "metadata": {},
   "outputs": [
    {
     "data": {
      "text/plain": [
       "array([0, 1, 2, 3, 4, 5, 6, 7, 8, 9])"
      ]
     },
     "execution_count": 7,
     "metadata": {},
     "output_type": "execute_result"
    }
   ],
   "source": [
    "#criando um vetor a partir de uma sequência\n",
    "np.arange(0,10)"
   ]
  },
  {
   "cell_type": "code",
   "execution_count": 8,
   "metadata": {},
   "outputs": [
    {
     "data": {
      "text/plain": [
       "array([0, 3, 6, 9])"
      ]
     },
     "execution_count": 8,
     "metadata": {},
     "output_type": "execute_result"
    }
   ],
   "source": [
    "#criando um vetor a partir de uma sequência pulando de 3 em 3\n",
    "np.arange(0,10,3)"
   ]
  },
  {
   "cell_type": "code",
   "execution_count": 9,
   "metadata": {},
   "outputs": [
    {
     "data": {
      "text/plain": [
       "array([0., 0., 0., 0.])"
      ]
     },
     "execution_count": 9,
     "metadata": {},
     "output_type": "execute_result"
    }
   ],
   "source": [
    "#cria um vetor de n zeros\n",
    "np.zeros(4) #n=4"
   ]
  },
  {
   "cell_type": "code",
   "execution_count": 14,
   "metadata": {},
   "outputs": [
    {
     "data": {
      "text/plain": [
       "array([[0., 0., 0., 0., 0.],\n",
       "       [0., 0., 0., 0., 0.],\n",
       "       [0., 0., 0., 0., 0.],\n",
       "       [0., 0., 0., 0., 0.]])"
      ]
     },
     "execution_count": 14,
     "metadata": {},
     "output_type": "execute_result"
    }
   ],
   "source": [
    "#cria uma matriz de nxm zeros\n",
    "np.zeros([4,5]) #n=4 m=5\n"
   ]
  },
  {
   "cell_type": "code",
   "execution_count": 15,
   "metadata": {},
   "outputs": [
    {
     "data": {
      "text/plain": [
       "array([1., 1., 1., 1.])"
      ]
     },
     "execution_count": 15,
     "metadata": {},
     "output_type": "execute_result"
    }
   ],
   "source": [
    "#cria um vetor de n uns\n",
    "np.ones(4) #n=4"
   ]
  },
  {
   "cell_type": "code",
   "execution_count": 18,
   "metadata": {},
   "outputs": [
    {
     "data": {
      "text/plain": [
       "array([[1., 1., 1., 1., 1.],\n",
       "       [1., 1., 1., 1., 1.],\n",
       "       [1., 1., 1., 1., 1.],\n",
       "       [1., 1., 1., 1., 1.]])"
      ]
     },
     "execution_count": 18,
     "metadata": {},
     "output_type": "execute_result"
    }
   ],
   "source": [
    "#cria uma matriz de nxm uns\n",
    "np.ones((4,5)) #n=4 m=5, pode usar o \"[]\" também\n"
   ]
  },
  {
   "cell_type": "code",
   "execution_count": 17,
   "metadata": {},
   "outputs": [
    {
     "data": {
      "text/plain": [
       "array([[1., 0., 0., 0.],\n",
       "       [0., 1., 0., 0.],\n",
       "       [0., 0., 1., 0.],\n",
       "       [0., 0., 0., 1.]])"
      ]
     },
     "execution_count": 17,
     "metadata": {},
     "output_type": "execute_result"
    }
   ],
   "source": [
    "#cria uma matriz identidade de ordem n\n",
    "np.eye(4)"
   ]
  },
  {
   "cell_type": "code",
   "execution_count": 3,
   "metadata": {},
   "outputs": [
    {
     "data": {
      "text/plain": [
       "array([ 3.,  6.,  9., 12., 15.])"
      ]
     },
     "execution_count": 3,
     "metadata": {},
     "output_type": "execute_result"
    }
   ],
   "source": [
    "#cria um vartor onde os paramêtros são: o número incial, número final e quantos números estarão na sequência:\n",
    "np.linspace(3,15,5)"
   ]
  },
  {
   "cell_type": "code",
   "execution_count": 23,
   "metadata": {},
   "outputs": [
    {
     "data": {
      "text/plain": [
       "array([ 3., 15.])"
      ]
     },
     "execution_count": 23,
     "metadata": {},
     "output_type": "execute_result"
    }
   ],
   "source": [
    "np.linspace(3,15,2)"
   ]
  },
  {
   "cell_type": "code",
   "execution_count": 24,
   "metadata": {},
   "outputs": [
    {
     "name": "stdout",
     "output_type": "stream",
     "text": [
      "\n"
     ]
    },
    {
     "data": {
      "text/plain": [
       "array([ 3.        ,  4.09090909,  5.18181818,  6.27272727,  7.36363636,\n",
       "        8.45454545,  9.54545455, 10.63636364, 11.72727273, 12.81818182,\n",
       "       13.90909091, 15.        ])"
      ]
     },
     "execution_count": 24,
     "metadata": {},
     "output_type": "execute_result"
    }
   ],
   "source": [
    "np.linspace(3,15,12)"
   ]
  },
  {
   "cell_type": "code",
   "execution_count": 26,
   "metadata": {},
   "outputs": [
    {
     "data": {
      "text/plain": [
       "array([0.86597038, 0.0282838 , 0.80709098, 0.74902042])"
      ]
     },
     "execution_count": 26,
     "metadata": {},
     "output_type": "execute_result"
    }
   ],
   "source": [
    "#retorna um vetor de n dimensões com valores aleatorios:\n",
    "np.random.rand(4)"
   ]
  },
  {
   "cell_type": "code",
   "execution_count": 27,
   "metadata": {},
   "outputs": [
    {
     "data": {
      "text/plain": [
       "array([[0.55974018, 0.67141708, 0.42965597],\n",
       "       [0.77861249, 0.94076521, 0.40126868],\n",
       "       [0.32109031, 0.54772934, 0.44020204],\n",
       "       [0.86009435, 0.44249496, 0.85764898]])"
      ]
     },
     "execution_count": 27,
     "metadata": {},
     "output_type": "execute_result"
    }
   ],
   "source": [
    "np.random.rand(4,3)"
   ]
  },
  {
   "cell_type": "code",
   "execution_count": 28,
   "metadata": {},
   "outputs": [
    {
     "data": {
      "text/plain": [
       "array([[[0.23985907, 0.64784137],\n",
       "        [0.61286216, 0.56876695],\n",
       "        [0.78961841, 0.20657012]],\n",
       "\n",
       "       [[0.51346736, 0.11996739],\n",
       "        [0.19705307, 0.03220489],\n",
       "        [0.51619793, 0.86356942]],\n",
       "\n",
       "       [[0.99824631, 0.60033274],\n",
       "        [0.86124643, 0.12376057],\n",
       "        [0.45247726, 0.19718239]],\n",
       "\n",
       "       [[0.3296486 , 0.23964844],\n",
       "        [0.53429938, 0.637393  ],\n",
       "        [0.37104318, 0.05848905]]])"
      ]
     },
     "execution_count": 28,
     "metadata": {},
     "output_type": "execute_result"
    }
   ],
   "source": [
    "np.random.rand(4,3,2)"
   ]
  },
  {
   "cell_type": "code",
   "execution_count": 29,
   "metadata": {},
   "outputs": [
    {
     "data": {
      "text/plain": [
       "array([[[[0.24502064, 0.06104752],\n",
       "         [0.68417253, 0.84359161],\n",
       "         [0.69587146, 0.01744229]],\n",
       "\n",
       "        [[0.70020292, 0.44903283],\n",
       "         [0.66548431, 0.15793542],\n",
       "         [0.39970013, 0.27794759]],\n",
       "\n",
       "        [[0.15741492, 0.18372949],\n",
       "         [0.13185334, 0.03613227],\n",
       "         [0.7101513 , 0.12676494]],\n",
       "\n",
       "        [[0.94825338, 0.83182379],\n",
       "         [0.63264424, 0.39104665],\n",
       "         [0.92787153, 0.4534704 ]]],\n",
       "\n",
       "\n",
       "       [[[0.42930247, 0.42338712],\n",
       "         [0.63763398, 0.57547247],\n",
       "         [0.74008516, 0.6151204 ]],\n",
       "\n",
       "        [[0.95248094, 0.9278279 ],\n",
       "         [0.87400138, 0.68456265],\n",
       "         [0.37656226, 0.73192138]],\n",
       "\n",
       "        [[0.32165754, 0.11968889],\n",
       "         [0.6817245 , 0.99025478],\n",
       "         [0.62496529, 0.69738912]],\n",
       "\n",
       "        [[0.68530619, 0.99519694],\n",
       "         [0.9443965 , 0.79810609],\n",
       "         [0.90209838, 0.469372  ]]],\n",
       "\n",
       "\n",
       "       [[[0.92601907, 0.72755475],\n",
       "         [0.09382019, 0.63018293],\n",
       "         [0.45654235, 0.8763734 ]],\n",
       "\n",
       "        [[0.32945484, 0.268556  ],\n",
       "         [0.28293084, 0.12379496],\n",
       "         [0.21266015, 0.03037104]],\n",
       "\n",
       "        [[0.21072946, 0.85110943],\n",
       "         [0.03145922, 0.39520615],\n",
       "         [0.45953328, 0.35014721]],\n",
       "\n",
       "        [[0.34448547, 0.01492498],\n",
       "         [0.16644192, 0.04654375],\n",
       "         [0.83383065, 0.20159755]]],\n",
       "\n",
       "\n",
       "       [[[0.72995983, 0.08845334],\n",
       "         [0.33699255, 0.64347216],\n",
       "         [0.72668023, 0.81385374]],\n",
       "\n",
       "        [[0.57986783, 0.98128485],\n",
       "         [0.92210285, 0.52913262],\n",
       "         [0.48590658, 0.52407038]],\n",
       "\n",
       "        [[0.22414399, 0.18056228],\n",
       "         [0.6262786 , 0.97144862],\n",
       "         [0.95143824, 0.14532947]],\n",
       "\n",
       "        [[0.68056485, 0.87345823],\n",
       "         [0.88869396, 0.69896257],\n",
       "         [0.29397772, 0.63971581]]],\n",
       "\n",
       "\n",
       "       [[[0.38745445, 0.22719517],\n",
       "         [0.9876321 , 0.19358336],\n",
       "         [0.86682424, 0.16173125]],\n",
       "\n",
       "        [[0.14129297, 0.46959035],\n",
       "         [0.06327567, 0.71771659],\n",
       "         [0.40867982, 0.43290503]],\n",
       "\n",
       "        [[0.57658063, 0.75418875],\n",
       "         [0.80667659, 0.2192705 ],\n",
       "         [0.90012362, 0.15034818]],\n",
       "\n",
       "        [[0.68052727, 0.87485405],\n",
       "         [0.79117678, 0.56323576],\n",
       "         [0.61418267, 0.54645715]]]])"
      ]
     },
     "execution_count": 29,
     "metadata": {},
     "output_type": "execute_result"
    }
   ],
   "source": [
    "np.random.rand(5,4,3,2)"
   ]
  },
  {
   "cell_type": "code",
   "execution_count": 33,
   "metadata": {},
   "outputs": [
    {
     "data": {
      "text/plain": [
       "array([3, 3])"
      ]
     },
     "execution_count": 33,
     "metadata": {},
     "output_type": "execute_result"
    }
   ],
   "source": [
    "#cria um vetor de inteiros aleatorios (segundo paramêtro não incluso)\n",
    "np.random.randint(3,30,2)"
   ]
  },
  {
   "cell_type": "code",
   "execution_count": 34,
   "metadata": {},
   "outputs": [
    {
     "data": {
      "text/plain": [
       "array([ 7, 25,  6, 16, 21, 24, 19, 17, 21, 15, 22,  6, 25, 20, 15, 17, 15,\n",
       "       13, 27,  7])"
      ]
     },
     "execution_count": 34,
     "metadata": {},
     "output_type": "execute_result"
    }
   ],
   "source": [
    "np.random.randint(3,30,20)"
   ]
  },
  {
   "cell_type": "code",
   "execution_count": 35,
   "metadata": {},
   "outputs": [
    {
     "data": {
      "text/plain": [
       "array([[1., 1., 1., 1., 1.],\n",
       "       [1., 1., 1., 1., 1.],\n",
       "       [1., 1., 1., 1., 1.],\n",
       "       [1., 1., 1., 1., 1.],\n",
       "       [1., 1., 1., 1., 1.]])"
      ]
     },
     "execution_count": 35,
     "metadata": {},
     "output_type": "execute_result"
    }
   ],
   "source": [
    "#transforma vetor em matriz de tamanho k e uma matriz nxm\n",
    "np.ones(25).reshape(5,5)# k=5, m = n = 5"
   ]
  },
  {
   "cell_type": "code",
   "execution_count": 38,
   "metadata": {},
   "outputs": [
    {
     "data": {
      "text/plain": [
       "(25,)"
      ]
     },
     "execution_count": 38,
     "metadata": {},
     "output_type": "execute_result"
    }
   ],
   "source": [
    "#Diz o tamanho\n",
    "np.ones(25).shape"
   ]
  },
  {
   "cell_type": "code",
   "execution_count": 39,
   "metadata": {},
   "outputs": [
    {
     "data": {
      "text/plain": [
       "(5, 5)"
      ]
     },
     "execution_count": 39,
     "metadata": {},
     "output_type": "execute_result"
    }
   ],
   "source": [
    "np.ones(25).reshape(5,5).shape"
   ]
  },
  {
   "cell_type": "code",
   "execution_count": 42,
   "metadata": {},
   "outputs": [
    {
     "data": {
      "text/plain": [
       "1.0"
      ]
     },
     "execution_count": 42,
     "metadata": {},
     "output_type": "execute_result"
    }
   ],
   "source": [
    "#acha o valor maximo de um vetor\n",
    "np.ones(25).reshape(5,5).max()"
   ]
  },
  {
   "cell_type": "code",
   "execution_count": 41,
   "metadata": {},
   "outputs": [
    {
     "data": {
      "text/plain": [
       "1.0"
      ]
     },
     "execution_count": 41,
     "metadata": {},
     "output_type": "execute_result"
    }
   ],
   "source": [
    "#acha o valor minimo de um vetor\n",
    "np.ones(25).reshape(5,5).min()"
   ]
  },
  {
   "cell_type": "code",
   "execution_count": 43,
   "metadata": {},
   "outputs": [
    {
     "data": {
      "text/plain": [
       "0"
      ]
     },
     "execution_count": 43,
     "metadata": {},
     "output_type": "execute_result"
    }
   ],
   "source": [
    "#acha o indice do valor maximo de um vetor (se houver varios, retorna a primeira ocorrência)\n",
    "np.ones(25).reshape(5,5).argmax()"
   ]
  },
  {
   "cell_type": "code",
   "execution_count": 44,
   "metadata": {},
   "outputs": [
    {
     "data": {
      "text/plain": [
       "0"
      ]
     },
     "execution_count": 44,
     "metadata": {},
     "output_type": "execute_result"
    }
   ],
   "source": [
    "#acha o indice do valor minimo de um vetor (se houver varios, retorna a primeira ocorrência)\n",
    "np.ones(25).reshape(5,5).argmin()"
   ]
  },
  {
   "cell_type": "code",
   "execution_count": 46,
   "metadata": {},
   "outputs": [
    {
     "data": {
      "text/plain": [
       "0"
      ]
     },
     "execution_count": 46,
     "metadata": {},
     "output_type": "execute_result"
    }
   ],
   "source": [
    "#indexação\n",
    "#pegando um elemento\n",
    "vetor[0]"
   ]
  },
  {
   "cell_type": "code",
   "execution_count": 48,
   "metadata": {},
   "outputs": [
    {
     "data": {
      "text/plain": [
       "array([0, 1, 2, 3, 4])"
      ]
     },
     "execution_count": 48,
     "metadata": {},
     "output_type": "execute_result"
    }
   ],
   "source": [
    "#pegando uma sequência de elementos\n",
    "vetor[0:5]"
   ]
  },
  {
   "cell_type": "code",
   "execution_count": 49,
   "metadata": {},
   "outputs": [
    {
     "data": {
      "text/plain": [
       "array([0, 2, 4, 6, 8])"
      ]
     },
     "execution_count": 49,
     "metadata": {},
     "output_type": "execute_result"
    }
   ],
   "source": [
    "vetor[0:10:2]"
   ]
  },
  {
   "cell_type": "code",
   "execution_count": 52,
   "metadata": {},
   "outputs": [
    {
     "data": {
      "text/plain": [
       "array([[ 0,  1,  2,  3,  4,  5,  6,  7,  8,  9],\n",
       "       [10, 11, 12, 13, 14, 15, 16, 17, 18, 19],\n",
       "       [20, 21, 22, 23, 24, 25, 26, 27, 28, 29],\n",
       "       [30, 31, 32, 33, 34, 35, 36, 37, 38, 39],\n",
       "       [40, 41, 42, 43, 44, 45, 46, 47, 48, 49],\n",
       "       [50, 51, 52, 53, 54, 55, 56, 57, 58, 59],\n",
       "       [60, 61, 62, 63, 64, 65, 66, 67, 68, 69],\n",
       "       [70, 71, 72, 73, 74, 75, 76, 77, 78, 79],\n",
       "       [80, 81, 82, 83, 84, 85, 86, 87, 88, 89],\n",
       "       [90, 91, 92, 93, 94, 95, 96, 97, 98, 99]])"
      ]
     },
     "execution_count": 52,
     "metadata": {},
     "output_type": "execute_result"
    }
   ],
   "source": [
    "matriz2 = vetor.reshape(10,10)\n",
    "matriz2"
   ]
  },
  {
   "cell_type": "code",
   "execution_count": 55,
   "metadata": {},
   "outputs": [
    {
     "data": {
      "text/plain": [
       "19"
      ]
     },
     "execution_count": 55,
     "metadata": {},
     "output_type": "execute_result"
    }
   ],
   "source": [
    "#pegando elementos de matrizes\n",
    "#o primeiro colchetes faz menção a linha e o segundo as colunas\n",
    "matriz2[1][9]#oega um elemento"
   ]
  },
  {
   "cell_type": "code",
   "execution_count": 69,
   "metadata": {},
   "outputs": [
    {
     "data": {
      "text/plain": [
       "array([20, 21, 22, 23, 24, 25, 26, 27, 28, 29])"
      ]
     },
     "execution_count": 69,
     "metadata": {},
     "output_type": "execute_result"
    }
   ],
   "source": [
    "#pegando uma linha\n",
    "matriz2[:][2]"
   ]
  },
  {
   "cell_type": "code",
   "execution_count": 70,
   "metadata": {},
   "outputs": [
    {
     "data": {
      "text/plain": [
       "array([20, 21, 22, 23, 24, 25, 26, 27, 28, 29])"
      ]
     },
     "execution_count": 70,
     "metadata": {},
     "output_type": "execute_result"
    }
   ],
   "source": [
    "matriz2[2][:]"
   ]
  },
  {
   "cell_type": "code",
   "execution_count": 71,
   "metadata": {},
   "outputs": [
    {
     "data": {
      "text/plain": [
       "array([ True,  True,  True,  True,  True,  True,  True,  True,  True,\n",
       "        True])"
      ]
     },
     "execution_count": 71,
     "metadata": {},
     "output_type": "execute_result"
    }
   ],
   "source": [
    "matriz2[2][:] == matriz2[:][2]#pra evitar esse problema eu uso a notação matriz2[lin,col] ou matriz2[linI:linF,colI:ColF]"
   ]
  },
  {
   "cell_type": "code",
   "execution_count": 85,
   "metadata": {},
   "outputs": [
    {
     "data": {
      "text/plain": [
       "array([[999, 999, 999, 999, 999, 999, 999, 999, 999, 999],\n",
       "       [999, 999, 999, 999, 999, 999, 999, 999, 999, 999]])"
      ]
     },
     "execution_count": 85,
     "metadata": {},
     "output_type": "execute_result"
    }
   ],
   "source": [
    "matriz2[:2,:]"
   ]
  },
  {
   "cell_type": "code",
   "execution_count": 86,
   "metadata": {},
   "outputs": [
    {
     "data": {
      "text/plain": [
       "array([[999, 999],\n",
       "       [999, 999],\n",
       "       [999, 999],\n",
       "       [ 30,  31],\n",
       "       [ 40,  41],\n",
       "       [ 50,  51],\n",
       "       [ 60,  61],\n",
       "       [ 70,  71],\n",
       "       [ 80,  81],\n",
       "       [ 90,  91]])"
      ]
     },
     "execution_count": 86,
     "metadata": {},
     "output_type": "execute_result"
    }
   ],
   "source": [
    "matriz2[:,:2]"
   ]
  },
  {
   "cell_type": "code",
   "execution_count": 72,
   "metadata": {},
   "outputs": [
    {
     "data": {
      "text/plain": [
       "array([[20, 21, 22, 23, 24, 25, 26, 27, 28, 29],\n",
       "       [30, 31, 32, 33, 34, 35, 36, 37, 38, 39],\n",
       "       [40, 41, 42, 43, 44, 45, 46, 47, 48, 49],\n",
       "       [50, 51, 52, 53, 54, 55, 56, 57, 58, 59]])"
      ]
     },
     "execution_count": 72,
     "metadata": {},
     "output_type": "execute_result"
    }
   ],
   "source": [
    "#é possivel pegar algumas linhas omitindo as colunas\n",
    "matriz2[2:6]#pega da terceira até a sexta linha (omitindo a setima)"
   ]
  },
  {
   "cell_type": "code",
   "execution_count": 74,
   "metadata": {},
   "outputs": [
    {
     "data": {
      "text/plain": [
       "array([[ 0,  1,  2,  3,  4,  5,  6,  7,  8,  9],\n",
       "       [10, 11, 12, 13, 14, 15, 16, 17, 18, 19],\n",
       "       [20, 21, 22, 23, 24, 25, 26, 27, 28, 29]])"
      ]
     },
     "execution_count": 74,
     "metadata": {},
     "output_type": "execute_result"
    }
   ],
   "source": [
    "#obs: se vc declara um array como um subconjunto de um segundo array e e então altera o primeiro array\n",
    "#os elementos do segundo array correspondente ao primeiro array também serão alteradas\n",
    "ex = matriz2[:3]\n",
    "ex"
   ]
  },
  {
   "cell_type": "code",
   "execution_count": 75,
   "metadata": {},
   "outputs": [
    {
     "data": {
      "text/plain": [
       "array([[999, 999, 999, 999, 999, 999, 999, 999, 999, 999],\n",
       "       [999, 999, 999, 999, 999, 999, 999, 999, 999, 999],\n",
       "       [999, 999, 999, 999, 999, 999, 999, 999, 999, 999]])"
      ]
     },
     "execution_count": 75,
     "metadata": {},
     "output_type": "execute_result"
    }
   ],
   "source": [
    "ex[:] = 999\n",
    "ex"
   ]
  },
  {
   "cell_type": "code",
   "execution_count": 77,
   "metadata": {},
   "outputs": [
    {
     "data": {
      "text/plain": [
       "array([[999, 999, 999, 999, 999, 999, 999, 999, 999, 999],\n",
       "       [999, 999, 999, 999, 999, 999, 999, 999, 999, 999],\n",
       "       [999, 999, 999, 999, 999, 999, 999, 999, 999, 999],\n",
       "       [ 30,  31,  32,  33,  34,  35,  36,  37,  38,  39],\n",
       "       [ 40,  41,  42,  43,  44,  45,  46,  47,  48,  49],\n",
       "       [ 50,  51,  52,  53,  54,  55,  56,  57,  58,  59],\n",
       "       [ 60,  61,  62,  63,  64,  65,  66,  67,  68,  69],\n",
       "       [ 70,  71,  72,  73,  74,  75,  76,  77,  78,  79],\n",
       "       [ 80,  81,  82,  83,  84,  85,  86,  87,  88,  89],\n",
       "       [ 90,  91,  92,  93,  94,  95,  96,  97,  98,  99]])"
      ]
     },
     "execution_count": 77,
     "metadata": {},
     "output_type": "execute_result"
    }
   ],
   "source": [
    "matriz2"
   ]
  },
  {
   "cell_type": "code",
   "execution_count": 88,
   "metadata": {},
   "outputs": [
    {
     "data": {
      "text/plain": [
       "array([[999, 999, 999, 999, 999, 999, 999, 999, 999, 999],\n",
       "       [999, 999, 999, 999, 999, 999, 999, 999, 999, 999],\n",
       "       [999, 999, 999, 999, 999, 999, 999, 999, 999, 999]])"
      ]
     },
     "execution_count": 88,
     "metadata": {},
     "output_type": "execute_result"
    }
   ],
   "source": [
    "#para evitar isso usa-se o .copy ao declarar o ex\n",
    "ex = matriz2[:3].copy()\n",
    "ex"
   ]
  },
  {
   "cell_type": "code",
   "execution_count": 89,
   "metadata": {},
   "outputs": [
    {
     "data": {
      "text/plain": [
       "array([[0, 0, 0, 0, 0, 0, 0, 0, 0, 0],\n",
       "       [0, 0, 0, 0, 0, 0, 0, 0, 0, 0],\n",
       "       [0, 0, 0, 0, 0, 0, 0, 0, 0, 0]])"
      ]
     },
     "execution_count": 89,
     "metadata": {},
     "output_type": "execute_result"
    }
   ],
   "source": [
    "ex[:] = 0\n",
    "ex"
   ]
  },
  {
   "cell_type": "code",
   "execution_count": 90,
   "metadata": {},
   "outputs": [
    {
     "data": {
      "text/plain": [
       "array([[999, 999, 999, 999, 999, 999, 999, 999, 999, 999],\n",
       "       [999, 999, 999, 999, 999, 999, 999, 999, 999, 999],\n",
       "       [999, 999, 999, 999, 999, 999, 999, 999, 999, 999],\n",
       "       [ 30,  31,  32,  33,  34,  35,  36,  37,  38,  39],\n",
       "       [ 40,  41,  42,  43,  44,  45,  46,  47,  48,  49],\n",
       "       [ 50,  51,  52,  53,  54,  55,  56,  57,  58,  59],\n",
       "       [ 60,  61,  62,  63,  64,  65,  66,  67,  68,  69],\n",
       "       [ 70,  71,  72,  73,  74,  75,  76,  77,  78,  79],\n",
       "       [ 80,  81,  82,  83,  84,  85,  86,  87,  88,  89],\n",
       "       [ 90,  91,  92,  93,  94,  95,  96,  97,  98,  99]])"
      ]
     },
     "execution_count": 90,
     "metadata": {},
     "output_type": "execute_result"
    }
   ],
   "source": [
    "matriz2"
   ]
  },
  {
   "cell_type": "code",
   "execution_count": 91,
   "metadata": {},
   "outputs": [
    {
     "data": {
      "text/plain": [
       "array([[ True,  True,  True,  True,  True,  True,  True,  True,  True,\n",
       "         True],\n",
       "       [ True,  True,  True,  True,  True,  True,  True,  True,  True,\n",
       "         True],\n",
       "       [ True,  True,  True,  True,  True,  True,  True,  True,  True,\n",
       "         True],\n",
       "       [False, False, False, False, False, False, False, False, False,\n",
       "        False],\n",
       "       [False, False, False, False, False, False, False, False, False,\n",
       "        False],\n",
       "       [False, False, False, False, False, False, False, False, False,\n",
       "        False],\n",
       "       [False, False, False, False, False, False, False, False, False,\n",
       "        False],\n",
       "       [False, False, False, False, False, False, False, False, False,\n",
       "        False],\n",
       "       [False, False, False, False, False, False, False, False, False,\n",
       "        False],\n",
       "       [False, False, False, False, False, False, False, False, False,\n",
       "        False]])"
      ]
     },
     "execution_count": 91,
     "metadata": {},
     "output_type": "execute_result"
    }
   ],
   "source": [
    "#é possivel criar uma vetor de booleans onde cada elemento do vetor passa por um teste de comparação\n",
    "#e um valor boolean e atribuido ao seu indice\n",
    "bol = matriz2 == 999\n",
    "bol"
   ]
  },
  {
   "cell_type": "code",
   "execution_count": 103,
   "metadata": {},
   "outputs": [
    {
     "data": {
      "text/plain": [
       "array([[  1,   2,   3,   4,   5,   6,   7,   8,   9,  10],\n",
       "       [ 11,  12,  13,  14,  15,  16,  17,  18,  19,  20],\n",
       "       [ 21,  22,  23,  24,  25,  26,  27,  28,  29,  30],\n",
       "       [ 31,  32,  33,  34,  35,  36,  37,  38,  39,  40],\n",
       "       [ 41,  42,  43,  44,  45,  46,  47,  48,  49,  50],\n",
       "       [ 51,  52,  53,  54,  55,  56,  57,  58,  59,  60],\n",
       "       [ 61,  62,  63,  64,  65,  66,  67,  68,  69,  70],\n",
       "       [ 71,  72,  73,  74,  75,  76,  77,  78,  79,  80],\n",
       "       [ 81,  82,  83,  84,  85,  86,  87,  88,  89,  90],\n",
       "       [ 91,  92,  93,  94,  95,  96,  97,  98,  99, 100]])"
      ]
     },
     "execution_count": 103,
     "metadata": {},
     "output_type": "execute_result"
    }
   ],
   "source": [
    "#operações vetor e escalar\n",
    "#a operação é repetida entre todos os elementos da matriz e o escalar\n",
    "matriz3 = np.arange(1,101).reshape(10,10)\n",
    "matriz3"
   ]
  },
  {
   "cell_type": "code",
   "execution_count": 104,
   "metadata": {},
   "outputs": [
    {
     "data": {
      "text/plain": [
       "array([[  4,   5,   6,   7,   8,   9,  10,  11,  12,  13],\n",
       "       [ 14,  15,  16,  17,  18,  19,  20,  21,  22,  23],\n",
       "       [ 24,  25,  26,  27,  28,  29,  30,  31,  32,  33],\n",
       "       [ 34,  35,  36,  37,  38,  39,  40,  41,  42,  43],\n",
       "       [ 44,  45,  46,  47,  48,  49,  50,  51,  52,  53],\n",
       "       [ 54,  55,  56,  57,  58,  59,  60,  61,  62,  63],\n",
       "       [ 64,  65,  66,  67,  68,  69,  70,  71,  72,  73],\n",
       "       [ 74,  75,  76,  77,  78,  79,  80,  81,  82,  83],\n",
       "       [ 84,  85,  86,  87,  88,  89,  90,  91,  92,  93],\n",
       "       [ 94,  95,  96,  97,  98,  99, 100, 101, 102, 103]])"
      ]
     },
     "execution_count": 104,
     "metadata": {},
     "output_type": "execute_result"
    }
   ],
   "source": [
    "matriz3+3"
   ]
  },
  {
   "cell_type": "code",
   "execution_count": 105,
   "metadata": {},
   "outputs": [
    {
     "data": {
      "text/plain": [
       "array([[-9, -8, -7, -6, -5, -4, -3, -2, -1,  0],\n",
       "       [ 1,  2,  3,  4,  5,  6,  7,  8,  9, 10],\n",
       "       [11, 12, 13, 14, 15, 16, 17, 18, 19, 20],\n",
       "       [21, 22, 23, 24, 25, 26, 27, 28, 29, 30],\n",
       "       [31, 32, 33, 34, 35, 36, 37, 38, 39, 40],\n",
       "       [41, 42, 43, 44, 45, 46, 47, 48, 49, 50],\n",
       "       [51, 52, 53, 54, 55, 56, 57, 58, 59, 60],\n",
       "       [61, 62, 63, 64, 65, 66, 67, 68, 69, 70],\n",
       "       [71, 72, 73, 74, 75, 76, 77, 78, 79, 80],\n",
       "       [81, 82, 83, 84, 85, 86, 87, 88, 89, 90]])"
      ]
     },
     "execution_count": 105,
     "metadata": {},
     "output_type": "execute_result"
    }
   ],
   "source": [
    "matriz3-10"
   ]
  },
  {
   "cell_type": "code",
   "execution_count": 106,
   "metadata": {},
   "outputs": [
    {
     "data": {
      "text/plain": [
       "array([[  9,   8,   7,   6,   5,   4,   3,   2,   1,   0],\n",
       "       [ -1,  -2,  -3,  -4,  -5,  -6,  -7,  -8,  -9, -10],\n",
       "       [-11, -12, -13, -14, -15, -16, -17, -18, -19, -20],\n",
       "       [-21, -22, -23, -24, -25, -26, -27, -28, -29, -30],\n",
       "       [-31, -32, -33, -34, -35, -36, -37, -38, -39, -40],\n",
       "       [-41, -42, -43, -44, -45, -46, -47, -48, -49, -50],\n",
       "       [-51, -52, -53, -54, -55, -56, -57, -58, -59, -60],\n",
       "       [-61, -62, -63, -64, -65, -66, -67, -68, -69, -70],\n",
       "       [-71, -72, -73, -74, -75, -76, -77, -78, -79, -80],\n",
       "       [-81, -82, -83, -84, -85, -86, -87, -88, -89, -90]])"
      ]
     },
     "execution_count": 106,
     "metadata": {},
     "output_type": "execute_result"
    }
   ],
   "source": [
    "10-matriz3"
   ]
  },
  {
   "cell_type": "code",
   "execution_count": 107,
   "metadata": {},
   "outputs": [
    {
     "data": {
      "text/plain": [
       "array([[  2,   4,   6,   8,  10,  12,  14,  16,  18,  20],\n",
       "       [ 22,  24,  26,  28,  30,  32,  34,  36,  38,  40],\n",
       "       [ 42,  44,  46,  48,  50,  52,  54,  56,  58,  60],\n",
       "       [ 62,  64,  66,  68,  70,  72,  74,  76,  78,  80],\n",
       "       [ 82,  84,  86,  88,  90,  92,  94,  96,  98, 100],\n",
       "       [102, 104, 106, 108, 110, 112, 114, 116, 118, 120],\n",
       "       [122, 124, 126, 128, 130, 132, 134, 136, 138, 140],\n",
       "       [142, 144, 146, 148, 150, 152, 154, 156, 158, 160],\n",
       "       [162, 164, 166, 168, 170, 172, 174, 176, 178, 180],\n",
       "       [182, 184, 186, 188, 190, 192, 194, 196, 198, 200]])"
      ]
     },
     "execution_count": 107,
     "metadata": {},
     "output_type": "execute_result"
    }
   ],
   "source": [
    "matriz3*2"
   ]
  },
  {
   "cell_type": "code",
   "execution_count": 108,
   "metadata": {},
   "outputs": [
    {
     "data": {
      "text/plain": [
       "array([[1.        , 0.5       , 0.33333333, 0.25      , 0.2       ,\n",
       "        0.16666667, 0.14285714, 0.125     , 0.11111111, 0.1       ],\n",
       "       [0.09090909, 0.08333333, 0.07692308, 0.07142857, 0.06666667,\n",
       "        0.0625    , 0.05882353, 0.05555556, 0.05263158, 0.05      ],\n",
       "       [0.04761905, 0.04545455, 0.04347826, 0.04166667, 0.04      ,\n",
       "        0.03846154, 0.03703704, 0.03571429, 0.03448276, 0.03333333],\n",
       "       [0.03225806, 0.03125   , 0.03030303, 0.02941176, 0.02857143,\n",
       "        0.02777778, 0.02702703, 0.02631579, 0.02564103, 0.025     ],\n",
       "       [0.02439024, 0.02380952, 0.02325581, 0.02272727, 0.02222222,\n",
       "        0.02173913, 0.0212766 , 0.02083333, 0.02040816, 0.02      ],\n",
       "       [0.01960784, 0.01923077, 0.01886792, 0.01851852, 0.01818182,\n",
       "        0.01785714, 0.01754386, 0.01724138, 0.01694915, 0.01666667],\n",
       "       [0.01639344, 0.01612903, 0.01587302, 0.015625  , 0.01538462,\n",
       "        0.01515152, 0.01492537, 0.01470588, 0.01449275, 0.01428571],\n",
       "       [0.01408451, 0.01388889, 0.01369863, 0.01351351, 0.01333333,\n",
       "        0.01315789, 0.01298701, 0.01282051, 0.01265823, 0.0125    ],\n",
       "       [0.01234568, 0.01219512, 0.01204819, 0.01190476, 0.01176471,\n",
       "        0.01162791, 0.01149425, 0.01136364, 0.01123596, 0.01111111],\n",
       "       [0.01098901, 0.01086957, 0.01075269, 0.0106383 , 0.01052632,\n",
       "        0.01041667, 0.01030928, 0.01020408, 0.01010101, 0.01      ]])"
      ]
     },
     "execution_count": 108,
     "metadata": {},
     "output_type": "execute_result"
    }
   ],
   "source": [
    "1/matriz3"
   ]
  },
  {
   "cell_type": "code",
   "execution_count": 109,
   "metadata": {},
   "outputs": [
    {
     "data": {
      "text/plain": [
       "array([[  2,   4,   6,   8,  10,  12,  14,  16,  18,  20],\n",
       "       [ 22,  24,  26,  28,  30,  32,  34,  36,  38,  40],\n",
       "       [ 42,  44,  46,  48,  50,  52,  54,  56,  58,  60],\n",
       "       [ 62,  64,  66,  68,  70,  72,  74,  76,  78,  80],\n",
       "       [ 82,  84,  86,  88,  90,  92,  94,  96,  98, 100],\n",
       "       [102, 104, 106, 108, 110, 112, 114, 116, 118, 120],\n",
       "       [122, 124, 126, 128, 130, 132, 134, 136, 138, 140],\n",
       "       [142, 144, 146, 148, 150, 152, 154, 156, 158, 160],\n",
       "       [162, 164, 166, 168, 170, 172, 174, 176, 178, 180],\n",
       "       [182, 184, 186, 188, 190, 192, 194, 196, 198, 200]])"
      ]
     },
     "execution_count": 109,
     "metadata": {},
     "output_type": "execute_result"
    }
   ],
   "source": [
    "#operações entre matrizes\n",
    "# a operação acontece entre os elemntos de mesmo indice\n",
    "matriz3+matriz3"
   ]
  },
  {
   "cell_type": "code",
   "execution_count": 110,
   "metadata": {},
   "outputs": [
    {
     "data": {
      "text/plain": [
       "array([[1., 1., 1., 1., 1., 1., 1., 1., 1., 1.],\n",
       "       [1., 1., 1., 1., 1., 1., 1., 1., 1., 1.],\n",
       "       [1., 1., 1., 1., 1., 1., 1., 1., 1., 1.],\n",
       "       [1., 1., 1., 1., 1., 1., 1., 1., 1., 1.],\n",
       "       [1., 1., 1., 1., 1., 1., 1., 1., 1., 1.],\n",
       "       [1., 1., 1., 1., 1., 1., 1., 1., 1., 1.],\n",
       "       [1., 1., 1., 1., 1., 1., 1., 1., 1., 1.],\n",
       "       [1., 1., 1., 1., 1., 1., 1., 1., 1., 1.],\n",
       "       [1., 1., 1., 1., 1., 1., 1., 1., 1., 1.],\n",
       "       [1., 1., 1., 1., 1., 1., 1., 1., 1., 1.]])"
      ]
     },
     "execution_count": 110,
     "metadata": {},
     "output_type": "execute_result"
    }
   ],
   "source": [
    "matriz3/matriz3"
   ]
  },
  {
   "cell_type": "code",
   "execution_count": 111,
   "metadata": {},
   "outputs": [
    {
     "data": {
      "text/plain": [
       "array([[          1,           4,          27,         256,        3125,\n",
       "              46656,      823543,    16777216,   387420489,  1410065408],\n",
       "       [ 1843829075,  -251658240, -1692154371, -1282129920,  1500973039,\n",
       "                  0,  1681328401,   457441280,  -306639989,           0],\n",
       "       [  878082373,   977272832, -1276351769,           0,  1296002393,\n",
       "          603979776,  -714244925,           0, -1266004979,  1073741824],\n",
       "       [-2010103841,           0,   942687265,           0,   618402555,\n",
       "                  0,  -200711083,           0,  1583713495,           0],\n",
       "       [ 2110296937,           0,   407106611,           0, -1714755555,\n",
       "                  0,  1686099919,           0,    20963633,           0],\n",
       "       [ -329759125,           0, -1690305179,           0,  2006722247,\n",
       "                  0,  1071068025,           0,   915746723,           0],\n",
       "       [ 1062783533,           0,  1526857663,           0,  1526861889,\n",
       "                  0,   882693595,           0,   394359925,           0],\n",
       "       [-1215534921,           0, -1880654455,           0, -1252237549,\n",
       "                  0,   827793981,           0, -1640306769,           0],\n",
       "       [-1090846383,           0, -1095175861,           0,  -741017211,\n",
       "                  0, -1465220441,           0,   376283545,           0],\n",
       "       [ -763055485,           0,  1790517325,           0,  1916190623,\n",
       "                  0, -1573460895,           0, -1250178885,           0]],\n",
       "      dtype=int32)"
      ]
     },
     "execution_count": 111,
     "metadata": {},
     "output_type": "execute_result"
    }
   ],
   "source": [
    "matriz3**matriz3"
   ]
  },
  {
   "cell_type": "code",
   "execution_count": 117,
   "metadata": {},
   "outputs": [
    {
     "data": {
      "text/plain": [
       "array([[ 0,  1,  2,  3,  4,  5,  6,  7,  8,  9],\n",
       "       [10, 11, 12, 13, 14, 15, 16, 17, 18, 19],\n",
       "       [20, 21, 22, 23, 24, 25, 26, 27, 28, 29],\n",
       "       [30, 31, 32, 33, 34, 35, 36, 37, 38, 39],\n",
       "       [40, 41, 42, 43, 44, 45, 46, 47, 48, 49],\n",
       "       [50, 51, 52, 53, 54, 55, 56, 57, 58, 59],\n",
       "       [60, 61, 62, 63, 64, 65, 66, 67, 68, 69],\n",
       "       [70, 71, 72, 73, 74, 75, 76, 77, 78, 79],\n",
       "       [80, 81, 82, 83, 84, 85, 86, 87, 88, 89],\n",
       "       [90, 91, 92, 93, 94, 95, 96, 97, 98, 99]])"
      ]
     },
     "execution_count": 117,
     "metadata": {},
     "output_type": "execute_result"
    }
   ],
   "source": [
    "vetor = np.arange(0,100)\n",
    "matriz2 = vetor.reshape(10,10)\n",
    "matriz2"
   ]
  },
  {
   "cell_type": "code",
   "execution_count": 119,
   "metadata": {},
   "outputs": [
    {
     "name": "stderr",
     "output_type": "stream",
     "text": [
      "<ipython-input-119-8bea9883fedd>:1: RuntimeWarning: divide by zero encountered in true_divide\n",
      "  matriz3/matriz2\n"
     ]
    },
    {
     "data": {
      "text/plain": [
       "array([[       inf, 2.        , 1.5       , 1.33333333, 1.25      ,\n",
       "        1.2       , 1.16666667, 1.14285714, 1.125     , 1.11111111],\n",
       "       [1.1       , 1.09090909, 1.08333333, 1.07692308, 1.07142857,\n",
       "        1.06666667, 1.0625    , 1.05882353, 1.05555556, 1.05263158],\n",
       "       [1.05      , 1.04761905, 1.04545455, 1.04347826, 1.04166667,\n",
       "        1.04      , 1.03846154, 1.03703704, 1.03571429, 1.03448276],\n",
       "       [1.03333333, 1.03225806, 1.03125   , 1.03030303, 1.02941176,\n",
       "        1.02857143, 1.02777778, 1.02702703, 1.02631579, 1.02564103],\n",
       "       [1.025     , 1.02439024, 1.02380952, 1.02325581, 1.02272727,\n",
       "        1.02222222, 1.02173913, 1.0212766 , 1.02083333, 1.02040816],\n",
       "       [1.02      , 1.01960784, 1.01923077, 1.01886792, 1.01851852,\n",
       "        1.01818182, 1.01785714, 1.01754386, 1.01724138, 1.01694915],\n",
       "       [1.01666667, 1.01639344, 1.01612903, 1.01587302, 1.015625  ,\n",
       "        1.01538462, 1.01515152, 1.01492537, 1.01470588, 1.01449275],\n",
       "       [1.01428571, 1.01408451, 1.01388889, 1.01369863, 1.01351351,\n",
       "        1.01333333, 1.01315789, 1.01298701, 1.01282051, 1.01265823],\n",
       "       [1.0125    , 1.01234568, 1.01219512, 1.01204819, 1.01190476,\n",
       "        1.01176471, 1.01162791, 1.01149425, 1.01136364, 1.01123596],\n",
       "       [1.01111111, 1.01098901, 1.01086957, 1.01075269, 1.0106383 ,\n",
       "        1.01052632, 1.01041667, 1.01030928, 1.01020408, 1.01010101]])"
      ]
     },
     "execution_count": 119,
     "metadata": {},
     "output_type": "execute_result"
    }
   ],
   "source": [
    "matriz3/matriz2 #nesse caso o primeiro elemento é 1/0, oque daria um erro normalmente mas nesse caso só aparece\n",
    "                #um aviso e os demais são executados normalmente"
   ]
  },
  {
   "cell_type": "code",
   "execution_count": 120,
   "metadata": {},
   "outputs": [
    {
     "data": {
      "text/plain": [
       "array([[0.        , 0.5       , 0.66666667, 0.75      , 0.8       ,\n",
       "        0.83333333, 0.85714286, 0.875     , 0.88888889, 0.9       ],\n",
       "       [0.90909091, 0.91666667, 0.92307692, 0.92857143, 0.93333333,\n",
       "        0.9375    , 0.94117647, 0.94444444, 0.94736842, 0.95      ],\n",
       "       [0.95238095, 0.95454545, 0.95652174, 0.95833333, 0.96      ,\n",
       "        0.96153846, 0.96296296, 0.96428571, 0.96551724, 0.96666667],\n",
       "       [0.96774194, 0.96875   , 0.96969697, 0.97058824, 0.97142857,\n",
       "        0.97222222, 0.97297297, 0.97368421, 0.97435897, 0.975     ],\n",
       "       [0.97560976, 0.97619048, 0.97674419, 0.97727273, 0.97777778,\n",
       "        0.97826087, 0.9787234 , 0.97916667, 0.97959184, 0.98      ],\n",
       "       [0.98039216, 0.98076923, 0.98113208, 0.98148148, 0.98181818,\n",
       "        0.98214286, 0.98245614, 0.98275862, 0.98305085, 0.98333333],\n",
       "       [0.98360656, 0.98387097, 0.98412698, 0.984375  , 0.98461538,\n",
       "        0.98484848, 0.98507463, 0.98529412, 0.98550725, 0.98571429],\n",
       "       [0.98591549, 0.98611111, 0.98630137, 0.98648649, 0.98666667,\n",
       "        0.98684211, 0.98701299, 0.98717949, 0.98734177, 0.9875    ],\n",
       "       [0.98765432, 0.98780488, 0.98795181, 0.98809524, 0.98823529,\n",
       "        0.98837209, 0.98850575, 0.98863636, 0.98876404, 0.98888889],\n",
       "       [0.98901099, 0.98913043, 0.98924731, 0.9893617 , 0.98947368,\n",
       "        0.98958333, 0.98969072, 0.98979592, 0.98989899, 0.99      ]])"
      ]
     },
     "execution_count": 120,
     "metadata": {},
     "output_type": "execute_result"
    }
   ],
   "source": [
    "matriz2/matriz3"
   ]
  },
  {
   "cell_type": "code",
   "execution_count": 121,
   "metadata": {},
   "outputs": [
    {
     "data": {
      "text/plain": [
       "array([[ 0.84147098,  0.90929743,  0.14112001, -0.7568025 , -0.95892427,\n",
       "        -0.2794155 ,  0.6569866 ,  0.98935825,  0.41211849, -0.54402111],\n",
       "       [-0.99999021, -0.53657292,  0.42016704,  0.99060736,  0.65028784,\n",
       "        -0.28790332, -0.96139749, -0.75098725,  0.14987721,  0.91294525],\n",
       "       [ 0.83665564, -0.00885131, -0.8462204 , -0.90557836, -0.13235175,\n",
       "         0.76255845,  0.95637593,  0.27090579, -0.66363388, -0.98803162],\n",
       "       [-0.40403765,  0.55142668,  0.99991186,  0.52908269, -0.42818267,\n",
       "        -0.99177885, -0.64353813,  0.29636858,  0.96379539,  0.74511316],\n",
       "       [-0.15862267, -0.91652155, -0.83177474,  0.01770193,  0.85090352,\n",
       "         0.90178835,  0.12357312, -0.76825466, -0.95375265, -0.26237485],\n",
       "       [ 0.67022918,  0.98662759,  0.39592515, -0.55878905, -0.99975517,\n",
       "        -0.521551  ,  0.43616476,  0.99287265,  0.63673801, -0.30481062],\n",
       "       [-0.96611777, -0.7391807 ,  0.1673557 ,  0.92002604,  0.82682868,\n",
       "        -0.02655115, -0.85551998, -0.89792768, -0.11478481,  0.77389068],\n",
       "       [ 0.95105465,  0.25382336, -0.67677196, -0.98514626, -0.38778164,\n",
       "         0.56610764,  0.99952016,  0.51397846, -0.44411267, -0.99388865],\n",
       "       [-0.62988799,  0.31322878,  0.96836446,  0.73319032, -0.17607562,\n",
       "        -0.92345845, -0.82181784,  0.0353983 ,  0.86006941,  0.89399666],\n",
       "       [ 0.10598751, -0.77946607, -0.94828214, -0.24525199,  0.68326171,\n",
       "         0.98358775,  0.37960774, -0.57338187, -0.99920683, -0.50636564]])"
      ]
     },
     "execution_count": 121,
     "metadata": {},
     "output_type": "execute_result"
    }
   ],
   "source": [
    "#funções do numpy\n",
    "np.sin(matriz3)# seno de cada elemento"
   ]
  },
  {
   "cell_type": "code",
   "execution_count": 122,
   "metadata": {},
   "outputs": [
    {
     "data": {
      "text/plain": [
       "array([[ 1.        ,  1.41421356,  1.73205081,  2.        ,  2.23606798,\n",
       "         2.44948974,  2.64575131,  2.82842712,  3.        ,  3.16227766],\n",
       "       [ 3.31662479,  3.46410162,  3.60555128,  3.74165739,  3.87298335,\n",
       "         4.        ,  4.12310563,  4.24264069,  4.35889894,  4.47213595],\n",
       "       [ 4.58257569,  4.69041576,  4.79583152,  4.89897949,  5.        ,\n",
       "         5.09901951,  5.19615242,  5.29150262,  5.38516481,  5.47722558],\n",
       "       [ 5.56776436,  5.65685425,  5.74456265,  5.83095189,  5.91607978,\n",
       "         6.        ,  6.08276253,  6.164414  ,  6.244998  ,  6.32455532],\n",
       "       [ 6.40312424,  6.4807407 ,  6.55743852,  6.63324958,  6.70820393,\n",
       "         6.78232998,  6.8556546 ,  6.92820323,  7.        ,  7.07106781],\n",
       "       [ 7.14142843,  7.21110255,  7.28010989,  7.34846923,  7.41619849,\n",
       "         7.48331477,  7.54983444,  7.61577311,  7.68114575,  7.74596669],\n",
       "       [ 7.81024968,  7.87400787,  7.93725393,  8.        ,  8.06225775,\n",
       "         8.1240384 ,  8.18535277,  8.24621125,  8.30662386,  8.36660027],\n",
       "       [ 8.42614977,  8.48528137,  8.54400375,  8.60232527,  8.66025404,\n",
       "         8.71779789,  8.77496439,  8.83176087,  8.88819442,  8.94427191],\n",
       "       [ 9.        ,  9.05538514,  9.11043358,  9.16515139,  9.21954446,\n",
       "         9.2736185 ,  9.32737905,  9.38083152,  9.43398113,  9.48683298],\n",
       "       [ 9.53939201,  9.59166305,  9.64365076,  9.69535971,  9.74679434,\n",
       "         9.79795897,  9.8488578 ,  9.89949494,  9.94987437, 10.        ]])"
      ]
     },
     "execution_count": 122,
     "metadata": {},
     "output_type": "execute_result"
    }
   ],
   "source": [
    "np.sqrt(matriz3)# raiz quadrada de cada elemento"
   ]
  },
  {
   "cell_type": "code",
   "execution_count": 123,
   "metadata": {},
   "outputs": [
    {
     "data": {
      "text/plain": [
       "50.5"
      ]
     },
     "execution_count": 123,
     "metadata": {},
     "output_type": "execute_result"
    }
   ],
   "source": [
    "np.mean(matriz3)# media da matriz"
   ]
  },
  {
   "cell_type": "code",
   "execution_count": 124,
   "metadata": {},
   "outputs": [
    {
     "data": {
      "text/plain": [
       "28.86607004772212"
      ]
     },
     "execution_count": 124,
     "metadata": {},
     "output_type": "execute_result"
    }
   ],
   "source": [
    "np.std(matriz3)# desvio padrão da matriz"
   ]
  },
  {
   "cell_type": "code",
   "execution_count": null,
   "metadata": {},
   "outputs": [],
   "source": []
  }
 ],
 "metadata": {
  "kernelspec": {
   "display_name": "Python 3",
   "language": "python",
   "name": "python3"
  },
  "language_info": {
   "codemirror_mode": {
    "name": "ipython",
    "version": 3
   },
   "file_extension": ".py",
   "mimetype": "text/x-python",
   "name": "python",
   "nbconvert_exporter": "python",
   "pygments_lexer": "ipython3",
   "version": "3.8.5"
  }
 },
 "nbformat": 4,
 "nbformat_minor": 4
}
